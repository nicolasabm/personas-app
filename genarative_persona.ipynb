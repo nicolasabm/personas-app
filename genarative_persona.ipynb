{
 "cells": [
  {
   "cell_type": "markdown",
   "id": "e62bb8b3",
   "metadata": {},
   "source": [
    "# Importando Bibliotecas"
   ]
  },
  {
   "cell_type": "code",
   "execution_count": 1,
   "id": "ba21800d",
   "metadata": {},
   "outputs": [],
   "source": [
    "import vertexai\n",
    "from vertexai.generative_models import GenerativeModel, GenerationConfig\n",
    "import json"
   ]
  },
  {
   "cell_type": "markdown",
   "id": "c2cb9cb7",
   "metadata": {},
   "source": [
    "# Project Specification"
   ]
  },
  {
   "cell_type": "code",
   "execution_count": null,
   "id": "53aa0289",
   "metadata": {},
   "outputs": [],
   "source": [
    "PROJECT_ID = \"syntheticpersonasfinetuning\"\n",
    "REGION = \"us-central1\"\n",
    "                        #project_number         #location            #Id_endpoint\n",
    "ENDPOINT_ID = \"projects/541997184461/locations/us-central1/endpoints/4205454954871128064\" # (Confira se este é o ID do endpoint \"Ligado\")"
   ]
  },
  {
   "cell_type": "markdown",
   "id": "7a4cfa84",
   "metadata": {},
   "source": [
    "# Prompt "
   ]
  },
  {
   "cell_type": "code",
   "execution_count": 13,
   "id": "df8f4c9d",
   "metadata": {},
   "outputs": [],
   "source": [
    "# 2. O PERFIL (O \"GATILHO\" DO SEU MODELO)\n",
    "CLUSTER_3_PROFILE = \"\"\"Is the most risk-averse and least open to novelty and challenge. They prefer stable and predictable environments, and they choose the safe option when confronted with probabilities. The strong value placed on job stability and security, along with a strong emphasis on work-life balance, reinforces their preference for safe options and an aversion to experimental environments. Financially, they demonstrate defensive and self-interested behavior in resource-sharing games.\"\"\"\n",
    "\n",
    "# 3. A PERGUNTA QUE VOCÊ QUER FAZER\n",
    "# Prompt = \"\"\"\n",
    "# Act as an experienced screenwriter and social psychologist.\n",
    "# Generate a deep, fictional persona that perfectly fits the system profile.\n",
    "# The narrative should focus on how the person's life experiences shaped their attitudes.\n",
    "# \"\"\"\n",
    "\n",
    "\n",
    "Prompt = \"\"\"\n",
    "Act as an experienced screenwriter and social psychologist.\n",
    "Based *only* on the system profile, generate a fictional persona.\n",
    "\n",
    "Output Requirements:\n",
    "1.  Return ONLY a single, valid JSON object. No other text or markdown.\n",
    "2.  The JSON object must have these exact keys: \"name\", \"age\" (integer 25-65), \"department\" (choose one from: [Technology, Sales, Customer Insights, Marketing, Business Intelligence & Strategy, Logistics, Finance, Human Resources (HR), Legal & Compliance, Trade Marketing, Investors Relation, Factory]), and \"narrative_persona\".\n",
    "3.  The \"narrative_persona\" must be a complete, first-person biography of around 150 words that demonstrates the persona's attitudinal behaviors from their life experiences.\n",
    "\n",
    "Respond with ONLY the JSON.\n",
    "\"\"\""
   ]
  },
  {
   "cell_type": "markdown",
   "id": "fa5c4693",
   "metadata": {},
   "source": [
    "# Model Config"
   ]
  },
  {
   "cell_type": "code",
   "execution_count": 15,
   "id": "402ce8b2",
   "metadata": {},
   "outputs": [],
   "source": [
    "# 4. INICIALIZAR E CHAMAR A API\n",
    "vertexai.init(project=PROJECT_ID, location=REGION)\n",
    "model = GenerativeModel(\n",
    "    model_name=ENDPOINT_ID,\n",
    "    system_instruction=CLUSTER_3_PROFILE\n",
    "    )"
   ]
  },
  {
   "cell_type": "code",
   "execution_count": null,
   "id": "e4b70d11",
   "metadata": {},
   "outputs": [],
   "source": [
    "# ALLOWED_DEPARTMENTS = [\n",
    "#     \"Technology\", \"Sales\", \"Customer Insights\", \"Marketing\",\n",
    "#     \"Business Intelligence & Strategy\", \"Logistics\", \"Finance\",\n",
    "#     \"Human Resources (HR)\", \"Legal & Compliance\", \"Trade Marketing\",\n",
    "#     \"Investors Relation\", \"Factory\"\n",
    "# ]\n",
    "\n",
    "\n",
    "# # esquema do formato desejado de saída\n",
    "# persona_schema = {\n",
    "#     \"type\": \"object\",\n",
    "#     \"properties\": {\n",
    "#         \"name\": {\n",
    "#             \"type\": \"string\",\n",
    "#             \"description\": \"A realistic full name for the persona.\"\n",
    "#         },\n",
    "#         \"age\": {\n",
    "#             \"type\": \"integer\",\n",
    "#             \"description\": \"The persona's age as an integer, between 25 and 65.\",\n",
    "#             \"minimum\": 25,\n",
    "#             \"maximum\": 65\n",
    "#         },\n",
    "#         \"department\": {\n",
    "#             \"type\": \"string\",\n",
    "#             \"description\": \"The department where the persona works.\",\n",
    "#             \"enum\": ALLOWED_DEPARTMENTS  # <-- References the list above\n",
    "#         },\n",
    "#         \"narrative_persona\": {\n",
    "#             \"type\": \"string\",\n",
    "#             \"description\": \"A first-person biography (approx. 150 words) explaining how life experiences led this person to have these opinions and attitudinal behaviors.\"\n",
    "#         }\n",
    "#     },\n",
    "#     \"required\": [\"name\", \"age\", \"department\", \"narrative_persona\"]\n",
    "# }\n"
   ]
  },
  {
   "cell_type": "code",
   "execution_count": 16,
   "id": "596e7b0a",
   "metadata": {},
   "outputs": [],
   "source": [
    "genaration_config = GenerationConfig(\n",
    "    temperature=0.8, # temperatura que controla criatividade do modelo\n",
    "    max_output_tokens=2048, # max de tokens palavras/partes de palavras\n",
    "    # top_p = 0 a 1 soma a prob das palavras mais prováveis ate atingir um limite o top_p,\n",
    "    top_k = 50, #limita a escolha para olhar apenas para as x palavras mais prováveis,\n",
    "    # candidate_count = gera uma lista de x respostas diferentes para escolher,\n",
    "    # stop_sequences = lista de que força o modelo a parara de gerar o texto se encontrar uma das strings dessa lista,\n",
    "    response_mime_type=\"application/json\", # Força o formato de saida do texto, (text/plain)\n",
    "    #response_schema = persona_schema #fornece um esquema de como o json deve ser\n",
    "    # presence_penalty =  penaliza palavras por ja terem aparecido na respostas incentivando a usar palavras novas \n",
    "    # seed pra reproduzir sempre a mesma resposta.\n",
    ")\n",
    "\n",
    "response = model.generate_content(\n",
    "    Prompt,\n",
    "    generation_config = genaration_config\n",
    ")"
   ]
  },
  {
   "cell_type": "code",
   "execution_count": 17,
   "id": "0041e816",
   "metadata": {},
   "outputs": [
    {
     "data": {
      "text/plain": [
       "candidates {\n",
       "  content {\n",
       "    role: \"model\"\n",
       "    parts {\n",
       "      text: \"{\\n  \\\"name\\\": \\\"Eleanor Vance\\\",\\n  \\\"age\\\": 42,\\n  \\\"department\\\": \\\"Business Intelligence & Strategy\\\",\\n  \\\"narrative_persona\\\": \\\"I\\'ve always been the one who looks before leaping, and then looks again. My childhood was filled with carefully planned activities and a deep aversion to anything spontaneous. While other kids were chasing thrills, I was meticulously organizing my stamp collection or perfecting my homework. This cautious nature has only solidified with age. In my career in Business Intelligence & Strategy, I thrive on predictability. Give me a complex dataset, a meticulous process, and a clear goal, and I\\'ll deliver. I\\'m not one for brainstorming sessions or \\\\\\\"out-of-the-box\\\\\\\" thinking; I prefer a solid, data-driven plan. Job security is paramount, and I prioritize work-life balance above all else, ensuring my personal life remains as ordered and predictable as my professional one. I might not be the life of the party, and I\\'m definitely not the first to volunteer for a new, untested project, but you can always count on me for a well-reasoned, reliable solution.\\\"\\n}\"\n",
       "    }\n",
       "  }\n",
       "  finish_reason: STOP\n",
       "  avg_logprobs: -1.2130971568254019\n",
       "}\n",
       "usage_metadata {\n",
       "  prompt_token_count: 259\n",
       "  candidates_token_count: 241\n",
       "  total_token_count: 1303\n",
       "  prompt_tokens_details {\n",
       "    modality: TEXT\n",
       "    token_count: 259\n",
       "  }\n",
       "  candidates_tokens_details {\n",
       "    modality: TEXT\n",
       "    token_count: 241\n",
       "  }\n",
       "  thoughts_token_count: 803\n",
       "}\n",
       "model_version: \"gemini-2.5-flash@default\"\n",
       "create_time {\n",
       "  seconds: 1761687435\n",
       "  nanos: 73434000\n",
       "}\n",
       "response_id: \"izcBadq9BLqbvPEP46uEyAY\""
      ]
     },
     "execution_count": 17,
     "metadata": {},
     "output_type": "execute_result"
    }
   ],
   "source": [
    "response"
   ]
  },
  {
   "cell_type": "code",
   "execution_count": 18,
   "id": "718fceef",
   "metadata": {},
   "outputs": [
    {
     "data": {
      "text/plain": [
       "'{\\n  \"name\": \"Eleanor Vance\",\\n  \"age\": 42,\\n  \"department\": \"Business Intelligence & Strategy\",\\n  \"narrative_persona\": \"I\\'ve always been the one who looks before leaping, and then looks again. My childhood was filled with carefully planned activities and a deep aversion to anything spontaneous. While other kids were chasing thrills, I was meticulously organizing my stamp collection or perfecting my homework. This cautious nature has only solidified with age. In my career in Business Intelligence & Strategy, I thrive on predictability. Give me a complex dataset, a meticulous process, and a clear goal, and I\\'ll deliver. I\\'m not one for brainstorming sessions or \\\\\"out-of-the-box\\\\\" thinking; I prefer a solid, data-driven plan. Job security is paramount, and I prioritize work-life balance above all else, ensuring my personal life remains as ordered and predictable as my professional one. I might not be the life of the party, and I\\'m definitely not the first to volunteer for a new, untested project, but you can always count on me for a well-reasoned, reliable solution.\"\\n}'"
      ]
     },
     "execution_count": 18,
     "metadata": {},
     "output_type": "execute_result"
    }
   ],
   "source": [
    "response.text"
   ]
  },
  {
   "cell_type": "code",
   "execution_count": 20,
   "id": "958169ca",
   "metadata": {},
   "outputs": [],
   "source": [
    "json_data = json.loads(response.text)"
   ]
  },
  {
   "cell_type": "code",
   "execution_count": 21,
   "id": "4e38b21d",
   "metadata": {},
   "outputs": [
    {
     "data": {
      "text/plain": [
       "{'name': 'Eleanor Vance',\n",
       " 'age': 42,\n",
       " 'department': 'Business Intelligence & Strategy',\n",
       " 'narrative_persona': 'I\\'ve always been the one who looks before leaping, and then looks again. My childhood was filled with carefully planned activities and a deep aversion to anything spontaneous. While other kids were chasing thrills, I was meticulously organizing my stamp collection or perfecting my homework. This cautious nature has only solidified with age. In my career in Business Intelligence & Strategy, I thrive on predictability. Give me a complex dataset, a meticulous process, and a clear goal, and I\\'ll deliver. I\\'m not one for brainstorming sessions or \"out-of-the-box\" thinking; I prefer a solid, data-driven plan. Job security is paramount, and I prioritize work-life balance above all else, ensuring my personal life remains as ordered and predictable as my professional one. I might not be the life of the party, and I\\'m definitely not the first to volunteer for a new, untested project, but you can always count on me for a well-reasoned, reliable solution.'}"
      ]
     },
     "execution_count": 21,
     "metadata": {},
     "output_type": "execute_result"
    }
   ],
   "source": [
    "json_data"
   ]
  },
  {
   "cell_type": "code",
   "execution_count": null,
   "id": "0dea6267",
   "metadata": {},
   "outputs": [],
   "source": [
    "print(f\"Name: {json_data['name']}\")\n",
    "print(f\"Age: {json_data['age']}\")\n",
    "print(f\"Department: {json_data['department']}\")"
   ]
  },
  {
   "cell_type": "code",
   "execution_count": null,
   "id": "d2754e10",
   "metadata": {},
   "outputs": [],
   "source": [
    "personas = [\n",
    "    {   \n",
    "        #'Cluster': 'Security_Seeker',\n",
    "        'name': 'Eleanor Vance',\n",
    "        'age': 42,\n",
    "        'department': 'Business Intelligence & Strategy',\n",
    "        'narrative_persona': 'I\\'ve always been the one who looks before leaping, and then looks again. My childhood was filled with carefully planned activities and a deep aversion to anything spontaneous. While other kids were chasing thrills, I was meticulously organizing my stamp collection or perfecting my homework. This cautious nature has only solidified with age. In my career in Business Intelligence & Strategy, I thrive on predictability. Give me a complex dataset, a meticulous process, and a clear goal, and I\\'ll deliver. I\\'m not one for brainstorming sessions or \"out-of-the-box\" thinking; I prefer a solid, data-driven plan. Job security is paramount, and I prioritize work-life balance above all else, ensuring my personal life remains as ordered and predictable as my professional one. I might not be the life of the party, and I\\'m definitely not the first to volunteer for a new, untested project, but you can always count on me for a well-reasoned, reliable solution.'\n",
    "    }\n",
    "]"
   ]
  },
  {
   "cell_type": "code",
   "execution_count": 4,
   "id": "e436f055",
   "metadata": {},
   "outputs": [],
   "source": [
    "with open(\"C:/Users/Administrador/OneDrive/OPER/2025/Gemini_persona/json/personas_gemini.json\", \"w\", encoding=\"utf-8\") as f:\n",
    "    json.dump(personas, f, indent=4, ensure_ascii=False)"
   ]
  },
  {
   "cell_type": "code",
   "execution_count": null,
   "id": "a60af18b",
   "metadata": {},
   "outputs": [],
   "source": [
    "with open(\"C:/Users/Administrador/OneDrive/OPER/2025/Gemini_persona/json/personas_gemini.json\", 'r', encoding='utf-8') as f:\n",
    "\n",
    "        dados = json.loads(f)"
   ]
  },
  {
   "cell_type": "code",
   "execution_count": 12,
   "id": "4f2614f5",
   "metadata": {},
   "outputs": [
    {
     "name": "stdout",
     "output_type": "stream",
     "text": [
      "<class 'list'>\n"
     ]
    }
   ],
   "source": [
    "print(type(dados))"
   ]
  },
  {
   "cell_type": "code",
   "execution_count": 13,
   "id": "311fbf05",
   "metadata": {},
   "outputs": [
    {
     "data": {
      "text/plain": [
       "'Eleanor Vance'"
      ]
     },
     "execution_count": 13,
     "metadata": {},
     "output_type": "execute_result"
    }
   ],
   "source": [
    "dados[0]['name']"
   ]
  },
  {
   "cell_type": "markdown",
   "id": "0c5ad7b8",
   "metadata": {},
   "source": [
    "# Function Generate Personas"
   ]
  },
  {
   "cell_type": "markdown",
   "id": "1ee204a3",
   "metadata": {},
   "source": [
    "to use this you first need to authenticate via terminal you account after installing CLI\n",
    "\n",
    "authenticate runing the following command:\n",
    "gcloud auth application-default login"
   ]
  },
  {
   "cell_type": "code",
   "execution_count": 2,
   "id": "1c3e6dbb",
   "metadata": {},
   "outputs": [],
   "source": [
    "def personas_generation(endpoint_id, cluster_profile: str):\n",
    "    \"\"\"\n",
    "    The endpoint_id should follow the aspect:\n",
    "    projects/{project_number}/locations/{region}/endpoints/{endpoint_id}\n",
    "    \"\"\"    \n",
    "\n",
    "    PROJECT_ID = \"syntheticpersonasfinetuning\"\n",
    "    REGION = \"us-central1\"\n",
    "\n",
    "    ENDPOINT_ID = f\"projects/541997184461/locations/us-central1/endpoints/{endpoint_id}\" \n",
    "\n",
    "\n",
    "    prompt = \"\"\"\n",
    "            Act as an experienced screenwriter and social psychologist.\n",
    "            Based *only* on the system profile, generate a fictional persona.\n",
    "\n",
    "            Output Requirements:\n",
    "            1.  Return ONLY a single, valid JSON object. No other text or markdown.\n",
    "            2.  The JSON object must have these exact keys: \"name\", \"age\" (choose an integer 25-65), \"department\" (choose one from: [Technology, Sales, Customer Insights, Marketing, Business Intelligence & Strategy, Logistics, Finance, Human Resources (HR), Legal & Compliance, Trade Marketing, Investors Relation, Factory]), and \"narrative_persona\".\n",
    "            3.  The \"narrative_persona\" must be a complete, first-person biography of around 150 words that demonstrates the persona's attitudinal behaviors from their life experiences.\n",
    "\n",
    "            Respond with ONLY the JSON.\n",
    "            \"\"\"\n",
    "    \n",
    "\n",
    "    # model config\n",
    "    vertexai.init(project = PROJECT_ID, location=REGION)\n",
    "    model = GenerativeModel(\n",
    "        model_name = ENDPOINT_ID,\n",
    "        system_instruction= cluster_profile\n",
    "    )\n",
    "\n",
    "\n",
    "    config_genarate = GenerationConfig(\n",
    "        temperature=0.8,\n",
    "        top_k = 60,\n",
    "        response_mime_type= \"application/json\"\n",
    "    )\n",
    "\n",
    "    response = model.generate_content(\n",
    "        prompt,\n",
    "        generation_config = config_genarate\n",
    "    )\n",
    "\n",
    "    return response"
   ]
  },
  {
   "cell_type": "code",
   "execution_count": 3,
   "id": "834f557d",
   "metadata": {},
   "outputs": [],
   "source": [
    "# Cluster profiles and endpoint IDs\n",
    "\n",
    "# Cluster 0\n",
    "Pragmatic_Guardian = \"\"\"Is composed of individuals who combine a concern for personal security and benevolence with a strong preference for stability and job security. \n",
    "                            They exhibit cooperative behavior (contributing substantially to the common good and being relatively generous when sharing money), but they also demand a reasonable return when others make proposals. \n",
    "                            There is a paradox: despite risk aversion in abstract beliefs, in concrete choices, they accept moderate risk—suggesting pragmatic and conditional behavior: they take risks when the reward is attractive.\"\"\"\n",
    "#endpoint_id_cluster1 = \n",
    "\n",
    "# Cluster 1\n",
    "Ambitious_Innovator = \"\"\"Is the most creative, curious people who enjoy challenges, but also possess a strong sense of sacrifice for the future (a willingness to invest in long-term goals) with strong preferences for a competitive salary and opportunities for rapid career growth. \n",
    "                          Socially, they show moderate altruism and prefer environments that support work-life balance and clear feedback. \n",
    "                          Financially, they contribute high percentages to collective projects (high cooperativism) and accept risk when a potential return exists.\"\"\"\n",
    "#endpoint_id_cluster1 =\n",
    "\n",
    "# CLuster 2\n",
    "Disciplined_Traditionalist = \"\"\"Is conservative and disciplined: they value security, rules, meritocracy, and the stability of institutions. \n",
    "                          Paradoxically, in practical monetary contexts, they show a great willingness to cooperate and share resources (high contributions and donations in the scenarios), which indicates a high trust in the norms of reciprocity (they believe that cooperation pays off). \n",
    "                          They prioritize competitive salary and job stability and security, maintaining a conservative bias regarding novelty and risks.\"\"\"\n",
    "#endpoint_id_cluster2 = \n",
    "\n",
    "\n",
    "# CLuster 3\n",
    "Security_Seeker = \"\"\"Is the most risk-averse and least open to novelty and challenge. \n",
    "                          They prefer stable and predictable environments, and they choose the safe option when confronted with probabilities. \n",
    "                          The strong value placed on job stability and security, along with a strong emphasis on work-life balance, reinforces their preference for safe options and an aversion to experimental environments. \n",
    "                          Financially, they demonstrate defensive and self-interested behavior in resource-sharing games.\"\"\"\n",
    "endpoint_id_cluster3 = 6954726605520371712"
   ]
  },
  {
   "cell_type": "code",
   "execution_count": 4,
   "id": "a05e8ef6",
   "metadata": {},
   "outputs": [
    {
     "name": "stderr",
     "output_type": "stream",
     "text": [
      "c:\\Users\\Administrador\\AppData\\Local\\Programs\\Python\\Python310\\lib\\site-packages\\vertexai\\generative_models\\_generative_models.py:433: UserWarning: This feature is deprecated as of June 24, 2025 and will be removed on June 24, 2026. For details, see https://cloud.google.com/vertex-ai/generative-ai/docs/deprecations/genai-vertexai-sdk.\n",
      "  warning_logs.show_deprecation_warning()\n"
     ]
    },
    {
     "data": {
      "text/plain": [
       "{'name': 'Eleanor Vance',\n",
       " 'age': 48,\n",
       " 'department': 'Finance',\n",
       " 'narrative_persona': \"My life has always been a carefully constructed edifice of predictability. From a young age, I learned that the safest path is often the best one, a lesson reinforced by seeing others stumble when they strayed too far from the known. This worldview naturally guided my career choice towards a field where stability and job security are paramount. I’ve never been one to chase the latest trend or embrace untested ideas; I find comfort in established processes and clear expectations. Work-life balance isn't just a buzzword for me; it's a fundamental principle. I guard my personal time fiercely, recognizing that true security extends beyond the office. When resources are shared, I admit I tend to be a bit protective, ensuring my own needs are met before I consider broader distribution. It's not about being selfish, but about securing my foundation, which, for me, is the ultimate priority.\"}"
      ]
     },
     "execution_count": 4,
     "metadata": {},
     "output_type": "execute_result"
    }
   ],
   "source": [
    "generated_persona_c3 = personas_generation(endpoint_id_cluster3, Security_Seeker)\n",
    "json.loads(generated_persona_c3.text)"
   ]
  },
  {
   "cell_type": "markdown",
   "id": "979e7a3f",
   "metadata": {},
   "source": [
    "# Salvando em Json todas as Personas"
   ]
  },
  {
   "cell_type": "code",
   "execution_count": 5,
   "id": "e19fb23a",
   "metadata": {},
   "outputs": [],
   "source": [
    "personas = [\n",
    "    {   \n",
    "        'Cluster': 'Security_Seeker',\n",
    "        'name': 'Eleanor Vance',\n",
    "        'age': 48,\n",
    "        'department': 'Finance',\n",
    "        'narrative_persona': \"My life has always been a carefully constructed edifice of predictability. From a young age, I learned that the safest path is often the best one, a lesson reinforced by seeing others stumble when they strayed too far from the known. This worldview naturally guided my career choice towards a field where stability and job security are paramount. I’ve never been one to chase the latest trend or embrace untested ideas; I find comfort in established processes and clear expectations. Work-life balance isn't just a buzzword for me; it's a fundamental principle. I guard my personal time fiercely, recognizing that true security extends beyond the office. When resources are shared, I admit I tend to be a bit protective, ensuring my own needs are met before I consider broader distribution. It's not about being selfish, but about securing my foundation, which, for me, is the ultimate priority.\"\n",
    "    }\n",
    "\n",
    "\n",
    "#     {\n",
    "#         #\"Cluster\" : \"Ambtious Innovator\"\n",
    "#     },\n",
    "\n",
    "#     {\n",
    "#         #\"Cluster\" :\n",
    "#     },\n",
    "\n",
    "#     {\n",
    "#         #\"Cluster\" :\n",
    "#     }\n",
    "]"
   ]
  },
  {
   "cell_type": "code",
   "execution_count": 6,
   "id": "3b4c683a",
   "metadata": {},
   "outputs": [],
   "source": [
    "with open(\"C:/Users/Administrador/OneDrive/OPER/2025/Gemini_persona/json/personas_gemini.json\", \"w\", encoding=\"utf-8\") as f:\n",
    "    json.dump(personas, f, indent=4, ensure_ascii=False)"
   ]
  }
 ],
 "metadata": {
  "kernelspec": {
   "display_name": "Python 3",
   "language": "python",
   "name": "python3"
  },
  "language_info": {
   "codemirror_mode": {
    "name": "ipython",
    "version": 3
   },
   "file_extension": ".py",
   "mimetype": "text/x-python",
   "name": "python",
   "nbconvert_exporter": "python",
   "pygments_lexer": "ipython3",
   "version": "3.10.11"
  }
 },
 "nbformat": 4,
 "nbformat_minor": 5
}
